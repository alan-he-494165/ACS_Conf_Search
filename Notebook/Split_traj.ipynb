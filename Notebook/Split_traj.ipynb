{
 "cells": [
  {
   "cell_type": "markdown",
   "id": "4e11fdae",
   "metadata": {},
   "source": [
    "# Split traj.xyz"
   ]
  },
  {
   "cell_type": "code",
   "execution_count": null,
   "id": "8e101594",
   "metadata": {},
   "outputs": [],
   "source": [
    "import os\n",
    "import pathlib\n",
    "\n",
    "def split_traj(input_file='xtb_trj_500K.xyz', output_prefix='Methylene'):\n",
    "    with open(input_file,'r') as f_in:\n",
    "        lines = [line.rstrip('\\n') for line in f_in]\n",
    "    n_atoms = int(lines[0])\n",
    "    n_mol = int(len(lines) / (n_atoms + 2))\n",
    "    if not os.path.isdir(f\"../{output_prefix}\"):\n",
    "        os.mkdir(f\"../{output_prefix}\")\n",
    "    for i in range(n_mol):\n",
    "        if not os.path.isdir(f\"../{output_prefix}/{output_prefix}_{i}\"):\n",
    "            os.mkdir(f\"../{output_prefix}/{output_prefix}_{i}\")\n",
    "        with open(f\"../{output_prefix}/{output_prefix}_{i}/{output_prefix}_{i}.xyz\",'w') as f_out:\n",
    "            for j in range(n_atoms + 2):\n",
    "                mol_out = \"\"\n",
    "                mol_out += lines[i * (n_atoms + 2) + j] + \"\\n\"\n",
    "                f_out.write(mol_out)"
   ]
  },
  {
   "cell_type": "code",
   "execution_count": 6,
   "id": "bd2171fd",
   "metadata": {},
   "outputs": [],
   "source": [
    "split_traj(input_file=\"SM_Clus_ExpSolv_CH84.xyz\", output_prefix=\"SM_Clus_ExpSolv_CH84\")"
   ]
  },
  {
   "cell_type": "code",
   "execution_count": null,
   "id": "4de64ed9",
   "metadata": {},
   "outputs": [],
   "source": []
  }
 ],
 "metadata": {
  "kernelspec": {
   "display_name": "organic",
   "language": "python",
   "name": "python3"
  },
  "language_info": {
   "codemirror_mode": {
    "name": "ipython",
    "version": 3
   },
   "file_extension": ".py",
   "mimetype": "text/x-python",
   "name": "python",
   "nbconvert_exporter": "python",
   "pygments_lexer": "ipython3",
   "version": "3.11.9"
  }
 },
 "nbformat": 4,
 "nbformat_minor": 5
}
