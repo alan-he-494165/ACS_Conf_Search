{
 "cells": [
  {
   "cell_type": "markdown",
   "id": "42610f96",
   "metadata": {},
   "source": [
    "# MC Analysis Toolkits"
   ]
  },
  {
   "cell_type": "markdown",
   "id": "f9255f89",
   "metadata": {},
   "source": [
    "## 1. Setup Re-opt for lower energy conformers"
   ]
  },
  {
   "cell_type": "code",
   "execution_count": 1,
   "id": "84bae4a1",
   "metadata": {},
   "outputs": [],
   "source": [
    "import pandas as pd\n",
    "import numpy as np\n",
    "import warnings\n",
    "import os\n",
    "import pathlib\n",
    "\n",
    "FOLDER = '2PhMCP_pTSA_MC_xtb2'\n",
    "STRUCT_PREFIX = '2PhMCP_pTSA_xtb2'\n",
    "NEXT_FOLDER = '2PhMCP_pTSA_postMC_def2tzvp'\n",
    "\n",
    "def extract_energy(folder:str,struct_folder_prefix:str):\n",
    "    energy = []\n",
    "    energy_index = []\n",
    "    for i in range(0,100):\n",
    "        with open(f\"../{folder}/{struct_folder_prefix}_{i}/{struct_folder_prefix}_{i}.out\",'r') as f_mc:\n",
    "            lines = f_mc.readlines()\n",
    "            for line in lines:\n",
    "                if \"The optimization did not converge but reached the maximum\" in line:\n",
    "                    break\n",
    "                if \"Final Gibbs free energy\" in line:\n",
    "                    energy.append(float(line.split()[-2]))\n",
    "                    energy_index.append(i)\n",
    "    return energy_index, energy\n",
    "\n",
    "def gen_inp_qsub(filename_prefix, init_structure:str, folder:str):\n",
    "    '''\n",
    "    FILE_STRUCTURE\n",
    "    --------------\n",
    "    ACS_Group (or whatever else that you wanna name it)\n",
    "        |___Notebooks (where this ipynb is in)\n",
    "        |___folder (PARAMETER)\n",
    "            |___filename_prefix (PARAMETER)\n",
    "                |___filename_prefix.sh\n",
    "                |___filename_prefix.inp\n",
    "                |___init_structure (PARAMETER).xyz \n",
    "    '''\n",
    "    ORCA_Template = \"\"\"!B3LYP D3BJ def2-TZVP OPT FREQ CPCM(2,2,2-trifluoroethanol) tightSCF RIJCOSX miniprint\n",
    "\n",
    "%maxcore 4000\n",
    "%pal\n",
    "nproc 16\n",
    "end\n",
    "\n",
    "*xyzfile 0 1 {INIT_STRUCTURE}\n",
    "\n",
    "\"\"\"\n",
    "    qsub_Template = \"\"\"#!/bin/bash\n",
    "#PBS -l select=1:ncpus=16:mpiprocs=16:mem=64gb\n",
    "#PBS -l walltime=24:00:00\n",
    "#PBS -N {STRUCT_FOLDERNAME}\n",
    "\n",
    "module load OpenMPI/4.1.6-GCC-13.2.0\n",
    "module load ORCA/6.1.0-gompi-2023b-avx2\n",
    "\n",
    "cd /rds/general/user/ah1123/home/ACS_Group/{FOLDER_NAME}/{STRUCT_FOLDERNAME}\n",
    "\n",
    "/sw-eb/software/ORCA/6.1.0-gompi-2023b-avx2/bin/orca {FILENAME_INPUT} > {FILENAME_OUTPUT}\n",
    "\n",
    "\"\"\"\n",
    "    orca_data = {\"INIT_STRUCTURE\": f\"{init_structure}.xyz\"}\n",
    "    orca_content = ORCA_Template.format(**orca_data)\n",
    "    qsub_data = {\"FILENAME_INPUT\": f\"{filename_prefix}.inp\",\n",
    "                \"FILENAME_OUTPUT\": f\"{filename_prefix}.out\",\n",
    "                \"STRUCT_FOLDERNAME\":f\"{filename_prefix}\",\n",
    "                \"FOLDER_NAME\": f\"{folder}\"}\n",
    "    qsub_content = qsub_Template.format(**qsub_data)\n",
    "    with open(f\"../{folder}/{filename_prefix}/{filename_prefix}.inp\",\"w\") as f_orca:\n",
    "        f_orca.write(orca_content)\n",
    "    with open(f\"../{folder}/{filename_prefix}/{filename_prefix}.sh\",\"w\") as f_qsub:\n",
    "        f_qsub.write(qsub_content)"
   ]
  },
  {
   "cell_type": "code",
   "execution_count": 13,
   "id": "4b418549",
   "metadata": {},
   "outputs": [],
   "source": [
    "index, energy = zip(extract_energy(folder = FOLDER, struct_folder_prefix=STRUCT_PREFIX))\n",
    "zipped_energy = zip(index[0],energy[0])\n",
    "sorted_energy = sorted(zipped_energy, key = lambda x:x[1])"
   ]
  },
  {
   "cell_type": "code",
   "execution_count": 14,
   "id": "06f0a966",
   "metadata": {},
   "outputs": [
    {
     "data": {
      "text/plain": [
       "[(94, -87.05696747),\n",
       " (64, -87.0563638),\n",
       " (53, -87.05634367),\n",
       " (79, -87.05571804),\n",
       " (46, -87.05536812),\n",
       " (68, -87.05535419),\n",
       " (0, -87.05500471),\n",
       " (81, -87.0542593),\n",
       " (35, -87.05411329),\n",
       " (85, -87.05401557),\n",
       " (39, -87.05390754),\n",
       " (66, -87.0536028),\n",
       " (67, -87.0533736),\n",
       " (78, -87.05316604),\n",
       " (6, -87.05315108),\n",
       " (73, -87.05306269),\n",
       " (31, -87.05282162),\n",
       " (86, -87.05274938),\n",
       " (57, -87.05245244),\n",
       " (2, -87.05225335),\n",
       " (24, -87.05205011),\n",
       " (74, -87.05193846),\n",
       " (5, -87.05171554),\n",
       " (10, -87.05170379),\n",
       " (51, -87.05162914),\n",
       " (41, -87.05152241),\n",
       " (91, -87.05137837),\n",
       " (29, -87.05098562),\n",
       " (75, -87.05078805),\n",
       " (30, -87.05064897),\n",
       " (76, -87.05047407),\n",
       " (61, -87.05046469),\n",
       " (43, -87.05042081),\n",
       " (95, -87.05036341),\n",
       " (92, -87.05028829),\n",
       " (36, -87.04988276),\n",
       " (42, -87.04982454),\n",
       " (58, -87.04965334),\n",
       " (27, -87.04964343),\n",
       " (1, -87.04961013),\n",
       " (20, -87.04926712),\n",
       " (84, -87.04923481),\n",
       " (54, -87.0486584),\n",
       " (89, -87.04864101),\n",
       " (98, -87.0486357),\n",
       " (96, -87.04858173),\n",
       " (19, -87.04854361),\n",
       " (15, -87.04824356),\n",
       " (34, -87.04823423),\n",
       " (23, -87.0481187),\n",
       " (47, -87.0478188),\n",
       " (38, -87.0468569),\n",
       " (11, -87.04677479),\n",
       " (65, -87.04498577),\n",
       " (69, -87.04336459)]"
      ]
     },
     "execution_count": 14,
     "metadata": {},
     "output_type": "execute_result"
    }
   ],
   "source": [
    "sorted_energy"
   ]
  },
  {
   "cell_type": "code",
   "execution_count": 3,
   "id": "1cdbc426",
   "metadata": {},
   "outputs": [],
   "source": [
    "if not os.path.isdir(f\"../{NEXT_FOLDER}\"):\n",
    "    os.mkdir(f\"../{NEXT_FOLDER}\")\n",
    "\n",
    "for i,packed_energy in enumerate(sorted_energy[:25]):\n",
    "    if not os.path.isdir(f\"../{NEXT_FOLDER}/{NEXT_FOLDER}_{i}\"):\n",
    "        os.mkdir(f\"../{NEXT_FOLDER}/{NEXT_FOLDER}_{i}\")\n",
    "    os.system(f\"cp ../{FOLDER}/{STRUCT_PREFIX}_{packed_energy[0]}/{STRUCT_PREFIX}_{packed_energy[0]}.xyz ../{NEXT_FOLDER}/{NEXT_FOLDER}_{i}/{STRUCT_PREFIX}_{packed_energy[0]}.xyz\")\n",
    "    gen_inp_qsub(filename_prefix=f\"{NEXT_FOLDER}_{i}\",\n",
    "                 init_structure=f\"{STRUCT_PREFIX}_{packed_energy[0]}\",\n",
    "                 folder=NEXT_FOLDER)"
   ]
  },
  {
   "cell_type": "markdown",
   "id": "88a270f6",
   "metadata": {},
   "source": [
    "## Process Re-Opt"
   ]
  },
  {
   "cell_type": "code",
   "execution_count": 2,
   "id": "249dc5d9",
   "metadata": {},
   "outputs": [
    {
     "name": "stderr",
     "output_type": "stream",
     "text": [
      "/var/folders/wc/zk8pc51n13d38w8ylrcqnr440000gn/T/ipykernel_15412/3107909821.py:23: UserWarning: Structure No. 1 has imaginary frequency / has not yet converged!\n",
      "  warnings.warn(f\"Structure No. {i} has imaginary frequency / has not yet converged!\")\n",
      "/var/folders/wc/zk8pc51n13d38w8ylrcqnr440000gn/T/ipykernel_15412/3107909821.py:23: UserWarning: Structure No. 11 has imaginary frequency / has not yet converged!\n",
      "  warnings.warn(f\"Structure No. {i} has imaginary frequency / has not yet converged!\")\n",
      "/var/folders/wc/zk8pc51n13d38w8ylrcqnr440000gn/T/ipykernel_15412/3107909821.py:23: UserWarning: Structure No. 13 has imaginary frequency / has not yet converged!\n",
      "  warnings.warn(f\"Structure No. {i} has imaginary frequency / has not yet converged!\")\n",
      "/var/folders/wc/zk8pc51n13d38w8ylrcqnr440000gn/T/ipykernel_15412/3107909821.py:23: UserWarning: Structure No. 14 has imaginary frequency / has not yet converged!\n",
      "  warnings.warn(f\"Structure No. {i} has imaginary frequency / has not yet converged!\")\n",
      "/var/folders/wc/zk8pc51n13d38w8ylrcqnr440000gn/T/ipykernel_15412/3107909821.py:23: UserWarning: Structure No. 19 has imaginary frequency / has not yet converged!\n",
      "  warnings.warn(f\"Structure No. {i} has imaginary frequency / has not yet converged!\")\n",
      "/var/folders/wc/zk8pc51n13d38w8ylrcqnr440000gn/T/ipykernel_15412/3107909821.py:23: UserWarning: Structure No. 20 has imaginary frequency / has not yet converged!\n",
      "  warnings.warn(f\"Structure No. {i} has imaginary frequency / has not yet converged!\")\n",
      "/var/folders/wc/zk8pc51n13d38w8ylrcqnr440000gn/T/ipykernel_15412/3107909821.py:23: UserWarning: Structure No. 21 has imaginary frequency / has not yet converged!\n",
      "  warnings.warn(f\"Structure No. {i} has imaginary frequency / has not yet converged!\")\n",
      "/var/folders/wc/zk8pc51n13d38w8ylrcqnr440000gn/T/ipykernel_15412/3107909821.py:23: UserWarning: Structure No. 22 has imaginary frequency / has not yet converged!\n",
      "  warnings.warn(f\"Structure No. {i} has imaginary frequency / has not yet converged!\")\n",
      "/var/folders/wc/zk8pc51n13d38w8ylrcqnr440000gn/T/ipykernel_15412/3107909821.py:23: UserWarning: Structure No. 23 has imaginary frequency / has not yet converged!\n",
      "  warnings.warn(f\"Structure No. {i} has imaginary frequency / has not yet converged!\")\n",
      "/var/folders/wc/zk8pc51n13d38w8ylrcqnr440000gn/T/ipykernel_15412/3107909821.py:23: UserWarning: Structure No. 24 has imaginary frequency / has not yet converged!\n",
      "  warnings.warn(f\"Structure No. {i} has imaginary frequency / has not yet converged!\")\n"
     ]
    }
   ],
   "source": [
    "reopt_energy_res = []\n",
    "reopt_index = []\n",
    "for i in range(0,25):\n",
    "    j = 0\n",
    "    valid_flag = []\n",
    "    while True:\n",
    "        valid_flag.append(True)\n",
    "        try:\n",
    "            with open(f\"../{NEXT_FOLDER}/{NEXT_FOLDER}_{i}/{NEXT_FOLDER}_{i}\" + j * \"_re\" + \".out\",\"r\") as reopt_out:\n",
    "                lines = reopt_out.readlines()\n",
    "                for line in lines:\n",
    "                    if \"The optimization did not converge but reached the maximum\" in line:\n",
    "                        valid_flag[-1] = False\n",
    "                    if \"***imaginary mode***\" in line:\n",
    "                        valid_flag[-1] = False\n",
    "                    if \"Final Gibbs free energy\" in line:\n",
    "                        reopt_energy_res.append(float(line.split()[-2]))\n",
    "                        reopt_index.append(i)\n",
    "            j += 1\n",
    "        except:\n",
    "            break\n",
    "    if not valid_flag[-2]:\n",
    "        warnings.warn(f\"Structure No. {i} has imaginary frequency / has not yet converged!\")"
   ]
  },
  {
   "cell_type": "code",
   "execution_count": 3,
   "id": "bad03dad",
   "metadata": {},
   "outputs": [
    {
     "ename": "NameError",
     "evalue": "name 'NEXT_FOLDER' is not defined",
     "output_type": "error",
     "traceback": [
      "\u001b[31m---------------------------------------------------------------------------\u001b[39m",
      "\u001b[31mNameError\u001b[39m                                 Traceback (most recent call last)",
      "\u001b[36mCell\u001b[39m\u001b[36m \u001b[39m\u001b[32mIn[3]\u001b[39m\u001b[32m, line 1\u001b[39m\n\u001b[32m----> \u001b[39m\u001b[32m1\u001b[39m \u001b[33mf\u001b[39m\u001b[33m\"\u001b[39m\u001b[33m../\u001b[39m\u001b[38;5;132;01m{\u001b[39;00m\u001b[43mNEXT_FOLDER\u001b[49m\u001b[38;5;132;01m}\u001b[39;00m\u001b[33m/\u001b[39m\u001b[38;5;132;01m{\u001b[39;00mNEXT_FOLDER\u001b[38;5;132;01m}\u001b[39;00m\u001b[33m_\u001b[39m\u001b[38;5;132;01m{\u001b[39;00mi\u001b[38;5;132;01m}\u001b[39;00m\u001b[33m/\u001b[39m\u001b[38;5;132;01m{\u001b[39;00mNEXT_FOLDER\u001b[38;5;132;01m}\u001b[39;00m\u001b[33m_\u001b[39m\u001b[38;5;132;01m{\u001b[39;00mi\u001b[38;5;132;01m}\u001b[39;00m\u001b[33m\"\u001b[39m + j * \u001b[33m\"\u001b[39m\u001b[33m_re\u001b[39m\u001b[33m\"\u001b[39m + \u001b[33m\"\u001b[39m\u001b[33m.out\u001b[39m\u001b[33m\"\u001b[39m\n",
      "\u001b[31mNameError\u001b[39m: name 'NEXT_FOLDER' is not defined"
     ]
    }
   ],
   "source": [
    "f\"../{NEXT_FOLDER}/{NEXT_FOLDER}_{i}/{NEXT_FOLDER}_{i}\" + j * \"_re\" + \".out\""
   ]
  },
  {
   "cell_type": "code",
   "execution_count": 24,
   "id": "fea10adf",
   "metadata": {},
   "outputs": [
    {
     "data": {
      "text/plain": [
       "[-1668.8817794,\n",
       " -1668.8772384,\n",
       " -1668.88047111,\n",
       " -1668.881146,\n",
       " -1668.8787421,\n",
       " -1668.87834503,\n",
       " -1668.88038313,\n",
       " -1668.87727808,\n",
       " -1668.87923029,\n",
       " -1668.87793868,\n",
       " -1668.87852014,\n",
       " -1668.87683959,\n",
       " -1668.87806248,\n",
       " -1668.87349382,\n",
       " -1668.87520546,\n",
       " -1668.8790707,\n",
       " -1668.87532014,\n",
       " -1668.87739625,\n",
       " -1668.87392195,\n",
       " -1668.87310751,\n",
       " -1668.87453141,\n",
       " -1668.87455497]"
      ]
     },
     "execution_count": 24,
     "metadata": {},
     "output_type": "execute_result"
    }
   ],
   "source": [
    "reopt_energy_res"
   ]
  },
  {
   "cell_type": "code",
   "execution_count": 3,
   "id": "46087699",
   "metadata": {},
   "outputs": [],
   "source": [
    "re_zip = zip(reopt_index,reopt_energy_res)\n",
    "re_sort = sorted(re_zip, key= lambda x:x[1])"
   ]
  },
  {
   "cell_type": "code",
   "execution_count": 4,
   "id": "65f3d67f",
   "metadata": {},
   "outputs": [
    {
     "data": {
      "text/plain": [
       "[(0, -1668.8817794),\n",
       " (3, -1668.881146),\n",
       " (2, -1668.88047111),\n",
       " (6, -1668.88038313),\n",
       " (8, -1668.87923029),\n",
       " (16, -1668.8790707),\n",
       " (4, -1668.8787421),\n",
       " (10, -1668.87852014),\n",
       " (5, -1668.87834503),\n",
       " (12, -1668.87806248),\n",
       " (9, -1668.87793868),\n",
       " (18, -1668.87739625),\n",
       " (7, -1668.87727808),\n",
       " (1, -1668.8772384),\n",
       " (11, -1668.87683959),\n",
       " (17, -1668.87532014),\n",
       " (15, -1668.87520546),\n",
       " (23, -1668.87455497),\n",
       " (22, -1668.87453141),\n",
       " (20, -1668.87392195),\n",
       " (13, -1668.87349382),\n",
       " (21, -1668.87310751)]"
      ]
     },
     "execution_count": 4,
     "metadata": {},
     "output_type": "execute_result"
    }
   ],
   "source": [
    "re_sort"
   ]
  },
  {
   "cell_type": "code",
   "execution_count": 5,
   "id": "5d5b8e9e",
   "metadata": {},
   "outputs": [
    {
     "data": {
      "text/plain": [
       "22"
      ]
     },
     "execution_count": 5,
     "metadata": {},
     "output_type": "execute_result"
    }
   ],
   "source": [
    "len(re_sort)"
   ]
  },
  {
   "cell_type": "code",
   "execution_count": null,
   "id": "f834f5e3",
   "metadata": {},
   "outputs": [],
   "source": []
  }
 ],
 "metadata": {
  "kernelspec": {
   "display_name": "organic",
   "language": "python",
   "name": "python3"
  },
  "language_info": {
   "codemirror_mode": {
    "name": "ipython",
    "version": 3
   },
   "file_extension": ".py",
   "mimetype": "text/x-python",
   "name": "python",
   "nbconvert_exporter": "python",
   "pygments_lexer": "ipython3",
   "version": "3.11.9"
  }
 },
 "nbformat": 4,
 "nbformat_minor": 5
}
