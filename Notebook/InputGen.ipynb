{
 "cells": [
  {
   "cell_type": "code",
   "execution_count": 13,
   "id": "923b0849",
   "metadata": {},
   "outputs": [],
   "source": [
    "import os\n",
    "import pathlib"
   ]
  },
  {
   "cell_type": "code",
   "execution_count": null,
   "id": "58214403",
   "metadata": {},
   "outputs": [],
   "source": [
    "def HT_Gen(N_file, filename_prefix = \"Methylene\"):\n",
    "    ORCA_Template = \"\"\"!XTB2 OPT ALPB(dcm) tightSCF miniprint\n",
    "\n",
    "%maxcore 1000\n",
    "%pal\n",
    "nproc 16\n",
    "end\n",
    "\n",
    "*xyzfile 0 1 {FILENAME_INPUT}\n",
    "\n",
    "\"\"\"\n",
    "    qsub_Template = \"\"\"#!/bin/bash\n",
    "#PBS -l select=1:ncpus=16:mpiprocs=16:mem=16gb\n",
    "#PBS -l walltime=01:00:00\n",
    "#PBS -N {FOLDERNAME}\n",
    "\n",
    "module load OpenMPI/4.1.6-GCC-13.2.0\n",
    "module load ORCA/6.1.0-gompi-2023b-avx2\n",
    "\n",
    "cd /rds/general/user/ah1123/home/ACS_Group/Ketoprofen/{FOLDERNAME}\n",
    "\n",
    "/sw-eb/software/ORCA/6.1.0-gompi-2023b-avx2/bin/orca {FILENAME_INPUT} > {FILENAME_OUTPUT}\n",
    "\n",
    "\"\"\"\n",
    "    for i in range(N_file):\n",
    "        if not os.path.isdir(f\"../{filename_prefix}/{filename_prefix}_{i}\"):\n",
    "            os.mkdir(f\"../{filename_prefix}/{filename_prefix}_{i}\")\n",
    "        orca_data = {\"FILENAME_INPUT\": f\"{filename_prefix}_{i}.xyz\"}\n",
    "        qsub_data = {\"FILENAME_INPUT\": f\"{filename_prefix}_{i}.inp\",\n",
    "                    \"FILENAME_OUTPUT\": f\"{filename_prefix}_{i}.out\",\n",
    "                    \"FOLDERNAME\":f\"{filename_prefix}_{i}\"}\n",
    "        orca_content = ORCA_Template.format(**orca_data)\n",
    "        qsub_content = qsub_Template.format(**qsub_data)\n",
    "        with open(f\"../{filename_prefix}/{filename_prefix}_{i}/{filename_prefix}_{i}.inp\",'w') as f_orcainp:\n",
    "            f_orcainp.write(orca_content)\n",
    "        with open(f\"../{filename_prefix}/{filename_prefix}_{i}/{filename_prefix}_{i}.sh\",'w') as f_qsubinp:\n",
    "            f_qsubinp.write(qsub_content)"
   ]
  },
  {
   "cell_type": "code",
   "execution_count": null,
   "id": "083a0895",
   "metadata": {},
   "outputs": [],
   "source": [
    "HT_Gen(500)"
   ]
  },
  {
   "cell_type": "code",
   "execution_count": null,
   "id": "cdfefb1c",
   "metadata": {},
   "outputs": [],
   "source": []
  }
 ],
 "metadata": {
  "kernelspec": {
   "display_name": "organic",
   "language": "python",
   "name": "python3"
  },
  "language_info": {
   "codemirror_mode": {
    "name": "ipython",
    "version": 3
   },
   "file_extension": ".py",
   "mimetype": "text/x-python",
   "name": "python",
   "nbconvert_exporter": "python",
   "pygments_lexer": "ipython3",
   "version": "3.11.9"
  }
 },
 "nbformat": 4,
 "nbformat_minor": 5
}
